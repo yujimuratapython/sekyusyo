{
 "cells": [
  {
   "cell_type": "code",
   "execution_count": 1,
   "source": [
    "import openpyxl\r\n",
    "import pprint\r\n",
    "\r\n",
    "wb = openpyxl.load_workbook(r\"C:\\Users\\4D166\\Desktop\\sample.xlsx\")#自分のパス\r\n",
    "print(wb.sheetnames)\r\n"
   ],
   "outputs": [
    {
     "output_type": "stream",
     "name": "stdout",
     "text": [
      "['請求一覧2110', 'Sheet3', '顧客管理テーブル']\n"
     ]
    }
   ],
   "metadata": {}
  }
 ],
 "metadata": {
  "orig_nbformat": 4,
  "language_info": {
   "name": "python",
   "version": "3.6.13",
   "mimetype": "text/x-python",
   "codemirror_mode": {
    "name": "ipython",
    "version": 3
   },
   "pygments_lexer": "ipython3",
   "nbconvert_exporter": "python",
   "file_extension": ".py"
  },
  "kernelspec": {
   "name": "python3",
   "display_name": "Python 3.6.13 64-bit ('vir_env': conda)"
  },
  "interpreter": {
   "hash": "bf524abaef631d0e19bcd6c8cd1d8b7d0db081b13cc2e69d90c82649859a335c"
  }
 },
 "nbformat": 4,
 "nbformat_minor": 2
}